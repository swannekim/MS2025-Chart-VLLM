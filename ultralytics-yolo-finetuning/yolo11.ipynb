{
  "cells": [
    {
      "cell_type": "markdown",
      "metadata": {
        "nteract": {
          "transient": {
            "deleting": false
          }
        }
      },
      "source": [
        "# Prerequisites"
      ]
    },
    {
      "cell_type": "markdown",
      "metadata": {
        "nteract": {
          "transient": {
            "deleting": false
          }
        }
      },
      "source": [
        "## conda virtualenv 생성\n",
        "- Python 3.13.1은 AzureML의 일부 종속성에서 문제 발생. (참고: https://docs.ultralytics.com/ko/guides/azureml-quickstart/#quickstart-from-terminal)\n",
        "- 파일 경로: Users/t-yooyeunkim/ultralytics-yolo/yolo11.ipynb\n",
        "```bash\n",
        "conda create --name yolo11env -y python=3.12\n",
        "conda activate yolo11env # conda deactivate\n",
        "conda install pip -y\n",
        "```\n",
        "```bash\n",
        "pip install ipykernel\n",
        "python -m ipykernel install --user --name=yolo11env --display-name \"Python (yolo11env)\"\n",
        "```\n",
        "- Jupyter 상단 메뉴 → Kernel → Change Kernel → Python (yolo11env) 선택\n",
        "```bash\n",
        "cd ultralytics\n",
        "pip install -r requirements.txt\n",
        "pip install ultralytics\n",
        "pip install onnx\n",
        "pip install opencv-python\n",
        "pip install matplotlib\n",
        "pip install azure-ai-ml\n",
        "pip install azureml.fsspec\n",
        "```"
      ]
    },
    {
      "cell_type": "code",
      "execution_count": 2,
      "metadata": {
        "gather": {
          "logged": 1755794875178
        }
      },
      "outputs": [
        {
          "name": "stdout",
          "output_type": "stream",
          "text": [
            "/anaconda/envs/yolo11env/bin/python\n"
          ]
        }
      ],
      "source": [
        "import sys\n",
        "print(sys.executable)"
      ]
    },
    {
      "cell_type": "markdown",
      "metadata": {
        "nteract": {
          "transient": {
            "deleting": false
          }
        }
      },
      "source": [
        "## GPU 및 모델 작업수행 확인"
      ]
    },
    {
      "cell_type": "code",
      "execution_count": 3,
      "metadata": {
        "gather": {
          "logged": 1755794892737
        }
      },
      "outputs": [
        {
          "name": "stdout",
          "output_type": "stream",
          "text": [
            "Torch CUDA: True CUDA device: NVIDIA H100 NVL\n",
            "Linux-6.8.0-1030-azure-x86_64-with-glibc2.35\n"
          ]
        }
      ],
      "source": [
        "import torch, platform\n",
        "print(\"Torch CUDA:\", torch.cuda.is_available(), \"CUDA device:\", torch.cuda.get_device_name(0) if torch.cuda.is_available() else None)\n",
        "print(platform.platform())"
      ]
    },
    {
      "cell_type": "markdown",
      "metadata": {
        "nteract": {
          "transient": {
            "deleting": false
          }
        }
      },
      "source": [
        "```bash\n",
        "yolo predict model=yolo11n.pt source='https://ultralytics.com/images/bus.jpg'\n",
        "```\n",
        "```bash\n",
        "(yolo11env) azureuser@standard-nc40ads-h100-v5:/afh/projects/chartvllm-workspace-e50dcc49-4202-489d-ae4f-22f8078e2c70/shared/Users/t-yooyeunkim/ultralytics-yolo$ yolo predict model=yolo11n.pt source='https://ultralytics.com/images/bus.jpg'\n",
        "WARNING ⚠️ user config directory '/home/azureuser/.config/Ultralytics' is not writeable, defaulting to '/tmp' or CWD. Alternatively you can define a YOLO_CONFIG_DIR environment variable for this path.\n",
        "Downloading https://github.com/ultralytics/assets/releases/download/v8.3.0/yolo11n.pt to 'yolo11n.pt': 100%|██████████| 5.35M/5.35M [00:00<00:00, 54.2MB/s]\n",
        "Ultralytics 8.3.182 🚀 Python-3.12.11 torch-2.8.0+cu128 CUDA:0 (NVIDIA H100 NVL, 95248MiB)\n",
        "YOLO11n summary (fused): 100 layers, 2,616,248 parameters, 0 gradients, 6.5 GFLOPs\n",
        "\n",
        "Downloading https://ultralytics.com/images/bus.jpg to 'bus.jpg': 100%|██████████| 134k/134k [00:00<00:00, 4.35MB/s]\n",
        "image 1/1 /afh/projects/chartvllm-workspace-e50dcc49-4202-489d-ae4f-22f8078e2c70/shared/Users/t-yooyeunkim/ultralytics-yolo/bus.jpg: 640x480 4 persons, 1 bus, 55.4ms\n",
        "Speed: 5.2ms preprocess, 55.4ms inference, 131.4ms postprocess per image at shape (1, 3, 640, 480)\n",
        "Results saved to runs/detect/predict\n",
        "💡 Learn more at https://docs.ultralytics.com/modes/predict\n",
        "```\n"
      ]
    },
    {
      "cell_type": "markdown",
      "metadata": {
        "nteract": {
          "transient": {
            "deleting": false
          }
        }
      },
      "source": [
        "## 현재 작업 디렉토리 확인"
      ]
    },
    {
      "cell_type": "code",
      "execution_count": 4,
      "metadata": {
        "gather": {
          "logged": 1755794893010
        }
      },
      "outputs": [
        {
          "name": "stdout",
          "output_type": "stream",
          "text": [
            "/afh/projects/chartvllm-workspace-e50dcc49-4202-489d-ae4f-22f8078e2c70/shared/Users/t-yooyeunkim\n"
          ]
        }
      ],
      "source": [
        "import os\n",
        "print(os.getcwd())"
      ]
    },
    {
      "cell_type": "markdown",
      "metadata": {
        "nteract": {
          "transient": {
            "deleting": false
          }
        }
      },
      "source": [
        "## data 폴더 생성"
      ]
    },
    {
      "cell_type": "code",
      "execution_count": 5,
      "metadata": {
        "gather": {
          "logged": 1755794899489
        }
      },
      "outputs": [
        {
          "name": "stdout",
          "output_type": "stream",
          "text": [
            "CWD: /afh/projects/chartvllm-workspace-e50dcc49-4202-489d-ae4f-22f8078e2c70/shared/Users/t-yooyeunkim/ultralytics-yolo\n",
            "✅ made folders under ./ultralytics-yolo/data/...\n",
            "train chart: 0 nonchart: 0\n",
            "val chart: 0 nonchart: 0\n",
            "test chart: 0 nonchart: 0\n"
          ]
        }
      ],
      "source": [
        "# 1) 노트북 폴더로 이동\n",
        "import os, pathlib\n",
        "os.chdir(\"ultralytics-yolo\")  # 현재 CWD 기준 하위 폴더로 이동\n",
        "print(\"CWD:\", os.getcwd())\n",
        "\n",
        "# 2) data/ 뼈대 만들기\n",
        "for split in [\"train\",\"val\",\"test\"]:\n",
        "    for cls in [\"chart\",\"nonchart\"]:\n",
        "        pathlib.Path(f\"data/{split}/{cls}\").mkdir(parents=True, exist_ok=True)\n",
        "print(\"✅ made folders under ./ultralytics-yolo/data/...\")\n",
        "\n",
        "# 3) 샘플 개수 확인 함수\n",
        "def count_images(p):\n",
        "    return sum(len(files) for _,_,files in os.walk(p))\n",
        "\n",
        "for split in [\"train\",\"val\",\"test\"]:\n",
        "    print(split, \"chart:\", count_images(f\"data/{split}/chart\"),\n",
        "                 \"nonchart:\", count_images(f\"data/{split}/nonchart\"))"
      ]
    },
    {
      "cell_type": "markdown",
      "metadata": {
        "nteract": {
          "transient": {
            "deleting": false
          }
        }
      },
      "source": [
        "## 데이터 이미지파일 채우기"
      ]
    },
    {
      "cell_type": "code",
      "execution_count": 6,
      "metadata": {
        "gather": {
          "logged": 1755794915795
        }
      },
      "outputs": [
        {
          "name": "stdout",
          "output_type": "stream",
          "text": [
            "BASE: LocalUpload/e842e34bb09e3a842dfe9e69246792751cdf9522462626cbf40335d67174ea4e/ChartQA-Dataset\n",
            "ROOT: ['LocalUpload/e842e34bb09e3a842dfe9e69246792751cdf9522462626cbf40335d67174ea4e/ChartQA-Dataset/test/', 'LocalUpload/e842e34bb09e3a842dfe9e69246792751cdf9522462626cbf40335d67174ea4e/ChartQA-Dataset/train/', 'LocalUpload/e842e34bb09e3a842dfe9e69246792751cdf9522462626cbf40335d67174ea4e/ChartQA-Dataset/val/']\n",
            "SAMPLE: ['LocalUpload/e842e34bb09e3a842dfe9e69246792751cdf9522462626cbf40335d67174ea4e/ChartQA-Dataset/train/png/00006834003065.png', 'LocalUpload/e842e34bb09e3a842dfe9e69246792751cdf9522462626cbf40335d67174ea4e/ChartQA-Dataset/train/png/00035547003867.png', 'LocalUpload/e842e34bb09e3a842dfe9e69246792751cdf9522462626cbf40335d67174ea4e/ChartQA-Dataset/train/png/00035547003876.png', 'LocalUpload/e842e34bb09e3a842dfe9e69246792751cdf9522462626cbf40335d67174ea4e/ChartQA-Dataset/train/png/00097754005965.png', 'LocalUpload/e842e34bb09e3a842dfe9e69246792751cdf9522462626cbf40335d67174ea4e/ChartQA-Dataset/train/png/00108924005661.png']\n"
          ]
        },
        {
          "name": "stderr",
          "output_type": "stream",
          "text": [
            "Overriding of current TracerProvider is not allowed\n",
            "Overriding of current LoggerProvider is not allowed\n",
            "Overriding of current MeterProvider is not allowed\n",
            "Attempting to instrument while already instrumented\n",
            "Attempting to instrument while already instrumented\n",
            "Attempting to instrument while already instrumented\n"
          ]
        }
      ],
      "source": [
        "from azureml.fsspec import AzureMachineLearningFileSystem as AMLFS\n",
        "import os, pathlib\n",
        "\n",
        "# blobstore 경로\n",
        "BLOB_PREFIX = \"azureml://subscriptions/0feccff1-79cf-4ed1-b4c9-020c3ec2383b/resourcegroups/chartvllm-rg/workspaces/chartvllm-workspace/datastores/workspaceblobstore/paths/LocalUpload/e842e34bb09e3a842dfe9e69246792751cdf9522462626cbf40335d67174ea4e/ChartQA-Dataset/\"\n",
        "\n",
        "fs = AMLFS(BLOB_PREFIX)  # 인증은 CI에서 자동으로 붙음 (워크스페이스 권한 필요)\n",
        "\n",
        "# BASE: datastore 기준 절대 경로(ChartQA-Dataset까지 포함)\n",
        "BASE = BLOB_PREFIX.split(\"/paths/\")[1].strip(\"/\")  # 'LocalUpload/.../ChartQA-Dataset'\n",
        "print(\"BASE:\", BASE)\n",
        "\n",
        "print(\"ROOT:\", fs.ls(BASE)[:5])                 # ['.../ChartQA-Dataset/train/', ...]: ['train/', 'val/', 'test/'] 식으로 떠야 정상\n",
        "print(\"SAMPLE:\", fs.ls(f\"{BASE}/train/png\")[:5])  # 이미지 목록이 나와야 정상"
      ]
    },
    {
      "cell_type": "markdown",
      "metadata": {
        "nteract": {
          "transient": {
            "deleting": false
          }
        }
      },
      "source": [
        "### chart data: 데이터 작업 > 탑재 > 사용"
      ]
    },
    {
      "cell_type": "code",
      "execution_count": 8,
      "metadata": {
        "gather": {
          "logged": 1755795011239
        }
      },
      "outputs": [
        {
          "name": "stdout",
          "output_type": "stream",
          "text": [
            "mount contains: [PosixPath('/home/azureuser/cloudfiles/data/uri/chartqa_dataset/test'), PosixPath('/home/azureuser/cloudfiles/data/uri/chartqa_dataset/train'), PosixPath('/home/azureuser/cloudfiles/data/uri/chartqa_dataset/val')]\n"
          ]
        }
      ],
      "source": [
        "import os\n",
        "from pathlib import Path\n",
        "\n",
        "MOUNT = Path(\"/home/azureuser/cloudfiles/data/uri/chartqa_dataset\")  # Studio가 탑재한 경로\n",
        "print(\"mount contains:\", list(MOUNT.iterdir()))  # ['train','val','test'] 확인"
      ]
    },
    {
      "cell_type": "code",
      "execution_count": 9,
      "metadata": {
        "gather": {
          "logged": 1755795021238
        }
      },
      "outputs": [
        {
          "name": "stdout",
          "output_type": "stream",
          "text": [
            "train: linked data/train/chart -> /home/azureuser/cloudfiles/data/uri/chartqa_dataset/train/png\n",
            "val: linked data/val/chart -> /home/azureuser/cloudfiles/data/uri/chartqa_dataset/val/png\n",
            "test: linked data/test/chart -> /home/azureuser/cloudfiles/data/uri/chartqa_dataset/test/png\n"
          ]
        }
      ],
      "source": [
        "# data/{split}/chart 를 '폴더 링크'로 교체\n",
        "for split in [\"train\",\"val\",\"test\"]:\n",
        "    src_dir = MOUNT / split / \"png\"          # 원본 차트 이미지 폴더\n",
        "    dst_root = Path(\"data\") / split\n",
        "    dst_root.mkdir(parents=True, exist_ok=True)\n",
        "\n",
        "    link = dst_root / \"chart\"\n",
        "    if link.exists() or link.is_symlink():\n",
        "        if link.is_dir() and not link.is_symlink():\n",
        "            # 기존에 복사한 게 있으면 백업/삭제 택1\n",
        "            os.system(f\"rm -rf '{link}'\")    # 필요 시 안전하게 백업 후 삭제\n",
        "        else:\n",
        "            link.unlink()\n",
        "    os.symlink(src_dir, link)                # ✅ 폴더 전체를 링크 (즉시 끝)\n",
        "    print(f\"{split}: linked {link} -> {src_dir}\")"
      ]
    },
    {
      "cell_type": "code",
      "execution_count": 10,
      "metadata": {
        "gather": {
          "logged": 1755795035501
        }
      },
      "outputs": [
        {
          "name": "stdout",
          "output_type": "stream",
          "text": [
            "train chart: 18317 nonchart: 0\n",
            "val chart: 1056 nonchart: 0\n",
            "test chart: 1509 nonchart: 0\n"
          ]
        }
      ],
      "source": [
        "for split in [\"train\",\"val\",\"test\"]:\n",
        "    print(split, \"chart:\", count_images(f\"data/{split}/chart\"),\n",
        "                 \"nonchart:\", count_images(f\"data/{split}/nonchart\"))"
      ]
    },
    {
      "cell_type": "markdown",
      "metadata": {
        "nteract": {
          "transient": {
            "deleting": false
          }
        }
      },
      "source": [
        "### nonchart data"
      ]
    },
    {
      "cell_type": "code",
      "execution_count": 11,
      "metadata": {
        "gather": {
          "logged": 1755795621210
        }
      },
      "outputs": [
        {
          "name": "stderr",
          "output_type": "stream",
          "text": [
            "/anaconda/envs/yolo11env/lib/python3.12/site-packages/tqdm/auto.py:21: TqdmWarning: IProgress not found. Please update jupyter and ipywidgets. See https://ipywidgets.readthedocs.io/en/stable/user_install.html\n",
            "  from .autonotebook import tqdm as notebook_tqdm\n"
          ]
        },
        {
          "name": "stdout",
          "output_type": "stream",
          "text": [
            "Downloading split 'validation' to '_foz_cache/coco-2017/validation' if necessary\n",
            "Downloading annotations to '_foz_cache/coco-2017/tmp-download/annotations_trainval2017.zip'\n",
            " 100% |██████|    1.9Gb/1.9Gb [5.2s elapsed, 0s remaining, 401.4Mb/s]       \n",
            "Extracting annotations to '_foz_cache/coco-2017/raw/instances_val2017.json'\n",
            "Downloading 5000 images\n",
            " 100% |████████████████| 5000/5000 [1.5m elapsed, 0s remaining, 54.0 images/s]      \n",
            "Writing annotations to '_foz_cache/coco-2017/validation/labels.json'\n",
            "Dataset info written to '_foz_cache/coco-2017/info.json'\n",
            "Deleting existing dataset 'coco_val_5k'\n",
            "Loading 'coco-2017' split 'validation'\n",
            " 100% |███████████████| 5000/5000 [836.3ms elapsed, 0s remaining, 6.0K samples/s]      \n",
            "Dataset 'coco_val_5k' created\n",
            "train nonchart: 3500 (symlink: 3500 copy: 0 )\n",
            "val   nonchart: 750 (symlink: 750 copy: 0 )\n",
            "test  nonchart: 750 (symlink: 750 copy: 0 )\n",
            "train chart: 18317 nonchart: 3500\n",
            "val chart: 1056 nonchart: 750\n",
            "test chart: 1509 nonchart: 750\n"
          ]
        }
      ],
      "source": [
        "# === COCO 2017 val(5K) → data/{train,val,test}/nonchart 채우기 ===\n",
        "# - 5,000장 전부 사용\n",
        "# - 분배: 70%/15%/15% = 3500 / 750 / 750\n",
        "# - symlink 우선, 실패 시 copy 폴백\n",
        "\n",
        "import os, shutil, random\n",
        "from pathlib import Path\n",
        "import fiftyone as fo\n",
        "import fiftyone.zoo as foz\n",
        "\n",
        "# 0) 목표 개수(고정 5k 분할)\n",
        "TARGET = {\"train\": 3500, \"val\": 750, \"test\": 750}\n",
        "\n",
        "# 1) dataset zoo 캐시(재실행 시 재다운로드 방지)\n",
        "fo.config.dataset_zoo_dir = \"_foz_cache\"\n",
        "Path(fo.config.dataset_zoo_dir).mkdir(parents=True, exist_ok=True)\n",
        "\n",
        "# 2) COCO 2017 validation 5k 로드(전체)\n",
        "# ds = foz.load_zoo_dataset(\n",
        "#     \"coco-2017\",\n",
        "#     split=\"validation\",\n",
        "#     max_samples=5000,\n",
        "#     shuffle=True,\n",
        "#     dataset_dir=\"_foz_cache/coco_val_5k\",\n",
        "#     drop_existing_dataset=True,\n",
        "# )\n",
        "\n",
        "# ✅ dataset_dir 제거, dataset_name 사용, 라벨 미로딩\n",
        "ds = foz.load_zoo_dataset(\n",
        "    \"coco-2017\",\n",
        "    split=\"validation\",\n",
        "    max_samples=5000,\n",
        "    shuffle=True,\n",
        "    dataset_name=\"coco_val_5k\",\n",
        "    drop_existing_dataset=True,\n",
        "    label_types=[],          # ← annotation 미로딩 (이미지 경로만)\n",
        ")\n",
        "\n",
        "paths = ds.values(\"filepath\")\n",
        "random.seed(42)\n",
        "random.shuffle(paths)\n",
        "\n",
        "# 3) 70/15/15 분할\n",
        "train_paths = paths[:TARGET[\"train\"]]\n",
        "val_paths   = paths[TARGET[\"train\"]:TARGET[\"train\"]+TARGET[\"val\"]]\n",
        "test_paths  = paths[TARGET[\"train\"]+TARGET[\"val\"]:TARGET[\"train\"]+TARGET[\"val\"]+TARGET[\"test\"]]\n",
        "\n",
        "def place(paths, dst_dir, prefer_symlink=True):\n",
        "    dst = Path(dst_dir); dst.mkdir(parents=True, exist_ok=True)\n",
        "    ln = cp = 0\n",
        "    for src in paths:\n",
        "        src = Path(src)\n",
        "        out = dst / src.name\n",
        "        if out.exists():  # 중복 방지\n",
        "            continue\n",
        "        if prefer_symlink:\n",
        "            try:\n",
        "                os.symlink(src, out)  # 가장 빠름\n",
        "                ln += 1\n",
        "                continue\n",
        "            except Exception:\n",
        "                pass\n",
        "        shutil.copy2(src, out)        # 폴백\n",
        "        cp += 1\n",
        "    return ln, cp\n",
        "\n",
        "# 4) 실제 배치\n",
        "ln, cp = place(train_paths, \"data/train/nonchart\"); print(\"train nonchart:\", len(train_paths), \"(symlink:\", ln, \"copy:\", cp, \")\")\n",
        "ln, cp = place(val_paths,   \"data/val/nonchart\");   print(\"val   nonchart:\", len(val_paths),   \"(symlink:\", ln, \"copy:\", cp, \")\")\n",
        "ln, cp = place(test_paths,  \"data/test/nonchart\");  print(\"test  nonchart:\", len(test_paths),  \"(symlink:\", ln, \"copy:\", cp, \")\")\n",
        "\n",
        "# 5) 최종 개수 확인\n",
        "def count_images(p): \n",
        "    p = Path(p)\n",
        "    return sum(1 for x in p.glob(\"*\") if x.suffix.lower() in {\".jpg\",\".jpeg\",\".png\",\".webp\"})\n",
        "for split in [\"train\",\"val\",\"test\"]:\n",
        "    print(split, \"chart:\", count_images(f\"data/{split}/chart\"),\n",
        "                 \"nonchart:\", count_images(f\"data/{split}/nonchart\"))"
      ]
    },
    {
      "cell_type": "code",
      "execution_count": 12,
      "metadata": {
        "gather": {
          "logged": 1755796201130
        }
      },
      "outputs": [
        {
          "name": "stdout",
          "output_type": "stream",
          "text": [
            "Note: you may need to restart the kernel to use updated packages.\n",
            "target(chart): {'train': 18317, 'val': 1056, 'test': 1509} \n",
            "current(nonchart): {'train': 3500, 'val': 750, 'test': 750} \n",
            "need: {'train': 14817, 'val': 306, 'test': 759}\n",
            "[train] +2000 saved (total 2000/14817)\n",
            "[train] +2000 saved (total 4000/14817)\n",
            "[train] +2000 saved (total 6000/14817)\n",
            "[train] +2000 saved (total 8000/14817)\n",
            "[train] +2000 saved (total 10000/14817)\n",
            "[train] +2000 saved (total 12000/14817)\n",
            "[train] +2000 saved (total 14000/14817)\n",
            "[train] +817 saved (total 14817/14817)\n",
            "[train] done. saved_total=14817, out=data/train/nonchart\n",
            "[val] +306 saved (total 306/306)\n",
            "[val] done. saved_total=306, out=data/val/nonchart\n",
            "[test] +759 saved (total 759/759)\n",
            "[test] done. saved_total=759, out=data/test/nonchart\n",
            "train chart: 18317 nonchart: 18317\n",
            "val chart: 1056 nonchart: 1056\n",
            "test chart: 1509 nonchart: 1509\n"
          ]
        },
        {
          "name": "stderr",
          "output_type": "stream",
          "text": [
            "train save batch#0 (0/14817): 100%|██████████| 2000/2000 [00:38<00:00, 52.52it/s]\n",
            "train save batch#3 (6000/14817): 100%|██████████| 2000/2000 [00:37<00:00, 52.69it/s]HTTP Error 504 thrown while requesting GET https://huggingface.co/datasets/ds4sd/DocLayNet-v1.2/resolve/0daf93102e2efce76c3e11a274a5e0d0969391d3/data/train-00010-of-00072.parquet\n",
            "Retrying in 1s [Retry 1/5].\n",
            "train save batch#4 (8000/14817): 100%|██████████| 2000/2000 [00:35<00:00, 56.36it/s]\n",
            "train save batch#5 (10000/14817): 100%|██████████| 2000/2000 [00:38<00:00, 51.39it/s]\n",
            "train save batch#6 (12000/14817): 100%|██████████| 2000/2000 [00:40<00:00, 49.37it/s]\n",
            "train save batch#7 (14000/14817):  99%|█████████▉| 807/817 [00:21<00:00, 34.92it/s]\rtest save batch#0 (0/759):  99%|█████████▉| 755/759 [00:21<00:00, 30.32it/s]"
          ]
        }
      ],
      "source": [
        "# DocLayNet → nonchart (streaming=True + 병렬 저장 + 재실행 안전)\n",
        "%pip -q install datasets pillow tqdm\n",
        "\n",
        "import os, itertools, random\n",
        "from pathlib import Path\n",
        "from datasets import load_dataset\n",
        "from tqdm import tqdm\n",
        "from concurrent.futures import ThreadPoolExecutor, as_completed\n",
        "from PIL import Image\n",
        "\n",
        "BASE    = Path(\"data\")\n",
        "SPLITS  = [\"train\",\"val\",\"test\"]\n",
        "SPLIT_MAP = {\"val\": \"validation\"}     # DocLayNet 분할명 매핑\n",
        "WORKERS = 32        # CI 코어에 맞춰 조정\n",
        "CHUNK   = 2000      # 한 번에 받아 저장할 샘플 수(메모리/디스크 여유에 맞게)\n",
        "\n",
        "# 저장 포맷: 'png' 또는 'jpeg' (jpeg가 디스크 훨씬 절약)\n",
        "SAVE_FMT = \"png\"    # 필요하면 'jpeg' 로 변경\n",
        "JPEG_QUALITY = 90\n",
        "\n",
        "def count_images(dirpath: Path):\n",
        "    exts = {\".png\",\".jpg\",\".jpeg\",\".webp\"}\n",
        "    return sum(1 for p in dirpath.glob(\"*\") if p.suffix.lower() in exts)\n",
        "\n",
        "# 현재 chart/nonchart 개수 → 부족분 계산(차트와 동수 맞추기)\n",
        "target  = {s: count_images(BASE/s/\"chart\")    for s in SPLITS}\n",
        "current = {s: count_images(BASE/s/\"nonchart\") for s in SPLITS}\n",
        "need    = {s: max(0, target[s]-current[s])    for s in SPLITS}\n",
        "print(\"target(chart):\", target, \"\\ncurrent(nonchart):\", current, \"\\nneed:\", need)\n",
        "\n",
        "def _dst_path(out_dir: Path, idx: int):\n",
        "    ext = \".jpg\" if SAVE_FMT == \"jpeg\" else \".png\"\n",
        "    return out_dir / f\"doclaynet_{idx:07d}{ext}\"\n",
        "\n",
        "def save_one(out_dir: Path, idx: int, pil_img: Image.Image):\n",
        "    dst = _dst_path(out_dir, idx)\n",
        "    if dst.exists():\n",
        "        return \"skip\"\n",
        "    if SAVE_FMT == \"jpeg\":\n",
        "        pil_img.convert(\"RGB\").save(dst, format=\"JPEG\", quality=JPEG_QUALITY, optimize=True)\n",
        "    else:\n",
        "        pil_img.save(dst)  # PNG\n",
        "    return \"save\"\n",
        "\n",
        "def fill_streaming(split: str, remaining: int, workers: int = WORKERS, chunk: int = CHUNK):\n",
        "    if remaining <= 0:\n",
        "        print(f\"[{split}] already balanced\")\n",
        "        return\n",
        "    hf_split = SPLIT_MAP.get(split, split)  # 'val' -> 'validation'\n",
        "    out_dir = BASE/split/\"nonchart\"; out_dir.mkdir(parents=True, exist_ok=True)\n",
        "\n",
        "    # 스트리밍 데이터셋(캐시 크게 안 씀)\n",
        "    ds = load_dataset(\"ds4sd/DocLayNet-v1.2\", split=hf_split, streaming=True)\n",
        "    it = iter(ds)\n",
        "\n",
        "    saved_total = 0\n",
        "    idx_base = count_images(out_dir)  # 대략적 시작 인덱스(충돌 예방용)\n",
        "    batch_no = 0\n",
        "\n",
        "    while saved_total < remaining:\n",
        "        k = min(chunk, remaining - saved_total)\n",
        "        batch = list(itertools.islice(it, k))\n",
        "        if not batch:\n",
        "            print(f\"[{split}] DocLayNet 고갈: {saved_total}/{remaining} 저장 후 중단\")\n",
        "            break\n",
        "\n",
        "        def task(en):\n",
        "            i, ex = en\n",
        "            return save_one(out_dir, idx_base + saved_total + i, ex[\"image\"])\n",
        "\n",
        "        with ThreadPoolExecutor(max_workers=workers) as pool:\n",
        "            futures = [pool.submit(task, (i, ex)) for i, ex in enumerate(batch)]\n",
        "            for _ in tqdm(as_completed(futures), total=len(futures),\n",
        "                          desc=f\"{split} save batch#{batch_no} ({saved_total}/{remaining})\"):\n",
        "                pass\n",
        "\n",
        "        # 저장/스킵 집계\n",
        "        saves = sum(1 for f in futures if f.result() == \"save\")\n",
        "        saved_total += saves\n",
        "        batch_no += 1\n",
        "        print(f\"[{split}] +{saves} saved (total {saved_total}/{remaining})\")\n",
        "\n",
        "    print(f\"[{split}] done. saved_total={saved_total}, out={out_dir}\")\n",
        "\n",
        "# 실행\n",
        "for s in SPLITS:\n",
        "    fill_streaming(s, need[s], workers=WORKERS, chunk=CHUNK)\n",
        "\n",
        "# 최종 개수 확인\n",
        "for s in SPLITS:\n",
        "    print(s, \"chart:\", count_images(BASE/s/\"chart\"),\n",
        "             \"nonchart:\", count_images(BASE/s/\"nonchart\"))"
      ]
    },
    {
      "cell_type": "code",
      "execution_count": 13,
      "metadata": {
        "gather": {
          "logged": 1755796201773
        }
      },
      "outputs": [
        {
          "name": "stdout",
          "output_type": "stream",
          "text": [
            "train chart: 18317 nonchart: 18317\n",
            "val chart: 1056 nonchart: 1056\n",
            "test chart: 1509 nonchart: 1509\n"
          ]
        }
      ],
      "source": [
        "# 최종 개수 확인\n",
        "def count_images(p): \n",
        "    p = Path(p)\n",
        "    return sum(1 for x in p.glob(\"*\") if x.suffix.lower() in {\".jpg\",\".jpeg\",\".png\",\".webp\"})\n",
        "for split in [\"train\",\"val\",\"test\"]:\n",
        "    print(split, \"chart:\", count_images(f\"data/{split}/chart\"),\n",
        "                 \"nonchart:\", count_images(f\"data/{split}/nonchart\"))"
      ]
    },
    {
      "cell_type": "code",
      "execution_count": null,
      "metadata": {
        "gather": {
          "logged": 1755791792723
        }
      },
      "outputs": [],
      "source": [
        "# # DocLayNet → nonchart (링크 우선, 병렬 저장 X → 거의 즉시)\n",
        "# import os, random\n",
        "# from pathlib import Path\n",
        "# from datasets import load_dataset\n",
        "\n",
        "# BASE = Path(\"data\")\n",
        "# SPLITS = [\"train\",\"val\",\"test\"]\n",
        "\n",
        "# # 1) 지금 nonchart 개수와 chart 개수를 읽어 목표치 산정(차트와 균형 맞추기)\n",
        "# def count_images(p: Path):\n",
        "#     exts = {\".png\",\".jpg\",\".jpeg\",\".webp\"}\n",
        "#     return sum(1 for x in p.glob(\"*\") if x.suffix.lower() in exts)\n",
        "\n",
        "# target = {\n",
        "#     s: count_images(BASE/s/\"chart\")   # 차트 개수만큼 nonchart를 맞추는 전략\n",
        "#     for s in SPLITS\n",
        "# }\n",
        "# current = {\n",
        "#     s: count_images(BASE/s/\"nonchart\")\n",
        "#     for s in SPLITS\n",
        "# }\n",
        "# need = { s: max(0, target[s]-current[s]) for s in SPLITS }\n",
        "# print(\"target:\", target, \"\\ncurrent:\", current, \"\\nneed:\", need)\n",
        "\n",
        "# # 2) 비-스트리밍 로드 → 로컬 캐시에 이미지 파일 생성\n",
        "# #    (한 번 받아두면 재실행 시 캐시 재사용)\n",
        "# def get_doclaynet_paths(split: str, k: int):\n",
        "#     if k <= 0: return []\n",
        "#     ds = load_dataset(\"ds4sd/DocLayNet-v1.2\", split=split)   # streaming=False (기본)\n",
        "#     idxs = list(range(min(k, len(ds))))\n",
        "#     random.seed(42); random.shuffle(idxs)                    # 약간 셔플\n",
        "#     paths = []\n",
        "#     for i in idxs:\n",
        "#         im = ds[i][\"image\"]          # PIL Image (datasets가 캐시 파일에서 로드)\n",
        "#         p  = getattr(im, \"filename\", None)\n",
        "#         if p and os.path.exists(p):  # 캐시 파일 경로 있으면 그걸 사용\n",
        "#             paths.append(p)\n",
        "#         else:\n",
        "#             # 드물게 filename이 없을 수 있음 → 나중에 save로 폴백 처리\n",
        "#             paths.append(im)         # PIL 객체를 그대로 담아둠\n",
        "#     return paths\n",
        "\n",
        "# # 3) 링크/복사/저장 유틸\n",
        "# def place(paths, out_dir: Path, prefer_symlink=True):\n",
        "#     out_dir.mkdir(parents=True, exist_ok=True)\n",
        "#     ln = cp = sv = 0\n",
        "#     for src in paths:\n",
        "#         if isinstance(src, str):         # 캐시 파일 경로\n",
        "#             dst = out_dir / os.path.basename(src)\n",
        "#             if dst.exists(): continue\n",
        "#             if prefer_symlink:\n",
        "#                 try:\n",
        "#                     os.symlink(src, dst); ln += 1; continue\n",
        "#                 except Exception:\n",
        "#                     pass\n",
        "#             # 폴백: 파일 복사\n",
        "#             import shutil; shutil.copy2(src, dst); cp += 1\n",
        "#         else:\n",
        "#             # PIL.Image 객체 → 디스크에 저장(폴백)\n",
        "#             dst = out_dir / f\"doclaynet_{sv:06d}.png\"\n",
        "#             if dst.exists(): continue\n",
        "#             src.save(dst); sv += 1\n",
        "#     return ln, cp, sv\n",
        "\n",
        "# # 4) 실제 배치 (필요량만큼)\n",
        "# for split in SPLITS:\n",
        "#     k = need[split]\n",
        "#     paths = get_doclaynet_paths(split, k)\n",
        "#     ln, cp, sv = place(paths, BASE/split/\"nonchart\", prefer_symlink=True)\n",
        "#     print(f\"{split}: need={k}  -> linked={ln}, copied={cp}, saved={sv}\")\n",
        "\n",
        "# # 5) 최종 개수 확인\n",
        "# def count_images(p): \n",
        "#     p = Path(p)\n",
        "#     return sum(1 for x in p.glob(\"*\") if x.suffix.lower() in {\".jpg\",\".jpeg\",\".png\",\".webp\"})\n",
        "# for split in [\"train\",\"val\",\"test\"]:\n",
        "#     print(split, \"chart:\", count_images(f\"data/{split}/chart\"),\n",
        "#                  \"nonchart:\", count_images(f\"data/{split}/nonchart\"))"
      ]
    },
    {
      "cell_type": "markdown",
      "metadata": {
        "nteract": {
          "transient": {
            "deleting": false
          }
        }
      },
      "source": [
        "## yaml 파일 생성"
      ]
    },
    {
      "cell_type": "code",
      "execution_count": 14,
      "metadata": {
        "gather": {
          "logged": 1755796202891
        }
      },
      "outputs": [
        {
          "name": "stdout",
          "output_type": "stream",
          "text": [
            "train/chart: 18317 images\n",
            "train/nonchart: 18317 images\n",
            "val/chart: 1056 images\n",
            "val/nonchart: 1056 images\n",
            "test/chart: 1509 images\n",
            "test/nonchart: 1509 images\n",
            "\n",
            "=== data.yaml ===\n",
            "train: /afh/projects/chartvllm-workspace-e50dcc49-4202-489d-ae4f-22f8078e2c70/shared/Users/t-yooyeunkim/ultralytics-yolo/data/train\n",
            "val: /afh/projects/chartvllm-workspace-e50dcc49-4202-489d-ae4f-22f8078e2c70/shared/Users/t-yooyeunkim/ultralytics-yolo/data/val\n",
            "test: /afh/projects/chartvllm-workspace-e50dcc49-4202-489d-ae4f-22f8078e2c70/shared/Users/t-yooyeunkim/ultralytics-yolo/data/test\n",
            "names:\n",
            "  0: chart\n",
            "  1: nonchart\n",
            "\n"
          ]
        }
      ],
      "source": [
        "import os, yaml, pathlib\n",
        "\n",
        "DATA_ROOT = \"data\"  # data/{train,val,test}/{chart,nonchart}\n",
        "\n",
        "def real(p):  # symlink 안전하게 절대경로로 고정\n",
        "    return os.path.realpath(p)\n",
        "\n",
        "# sanity check: 각 split에 최소 1장씩 존재하는지 확인\n",
        "def count_imgs(d):\n",
        "    exts = {\".jpg\",\".jpeg\",\".png\",\".webp\"}\n",
        "    d = pathlib.Path(d)\n",
        "    return sum(1 for x in d.glob(\"*\") if x.suffix.lower() in exts)\n",
        "\n",
        "for split in [\"train\",\"val\",\"test\"]:\n",
        "    for cls in [\"chart\",\"nonchart\"]:\n",
        "        n = count_imgs(f\"{DATA_ROOT}/{split}/{cls}\")\n",
        "        assert n > 0, f\"[EMPTY] {split}/{cls} 비어있음. 먼저 채워주세요.\"\n",
        "        print(f\"{split}/{cls}: {n} images\")\n",
        "\n",
        "data_yaml = {\n",
        "    # Ultralytics 분류는 각 split 디렉토리 하위의 폴더명이 클래스가 됨\n",
        "    \"train\": real(f\"{DATA_ROOT}/train\"),\n",
        "    \"val\":   real(f\"{DATA_ROOT}/val\"),\n",
        "    \"test\":  real(f\"{DATA_ROOT}/test\"),\n",
        "\n",
        "    # names는 명시해두면 클래스 인덱스가 고정돼서 안전함(0: chart, 1: nonchart)\n",
        "    \"names\": {0: \"chart\", 1: \"nonchart\"}\n",
        "}\n",
        "\n",
        "pathlib.Path(DATA_ROOT).mkdir(parents=True, exist_ok=True)\n",
        "with open(f\"{DATA_ROOT}/data.yaml\",\"w\") as f:\n",
        "    yaml.safe_dump(data_yaml, f, sort_keys=False, allow_unicode=True)\n",
        "\n",
        "print(\"\\n=== data.yaml ===\")\n",
        "print(open(f\"{DATA_ROOT}/data.yaml\",\"r\").read())"
      ]
    },
    {
      "cell_type": "markdown",
      "metadata": {
        "nteract": {
          "transient": {
            "deleting": false
          }
        }
      },
      "source": [
        "# YOLOv11 분류 학습"
      ]
    },
    {
      "cell_type": "code",
      "execution_count": 15,
      "metadata": {
        "gather": {
          "logged": 1755798562233
        }
      },
      "outputs": [
        {
          "name": "stdout",
          "output_type": "stream",
          "text": [
            "\n",
            "[Train] batch=256, epochs=30, imgsz=224, workers=16\n",
            "New https://pypi.org/project/ultralytics/8.3.183 available 😃 Update with 'pip install -U ultralytics'\n",
            "Ultralytics 8.3.182 🚀 Python-3.12.11 torch-2.8.0+cu128 CUDA:0 (NVIDIA H100 NVL, 95248MiB)\n",
            "\u001b[34m\u001b[1mengine/trainer: \u001b[0magnostic_nms=False, amp=True, augment=False, auto_augment=randaugment, batch=256, bgr=0.0, box=7.5, cache=True, cfg=None, classes=None, close_mosaic=10, cls=0.5, conf=None, copy_paste=0.0, copy_paste_mode=flip, cos_lr=True, cutmix=0.0, data=/afh/projects/chartvllm-workspace-e50dcc49-4202-489d-ae4f-22f8078e2c70/shared/Users/t-yooyeunkim/ultralytics-yolo/data, degrees=0.0, deterministic=True, device=None, dfl=1.5, dnn=False, dropout=0.0, dynamic=False, embed=None, epochs=30, erasing=0.4, exist_ok=False, fliplr=0.5, flipud=0.0, format=torchscript, fraction=1.0, freeze=None, half=False, hsv_h=0.015, hsv_s=0.7, hsv_v=0.4, imgsz=224, int8=False, iou=0.7, keras=False, kobj=1.0, line_width=None, lr0=0.01, lrf=0.01, mask_ratio=4, max_det=300, mixup=0.0, mode=train, model=yolo11s-cls.pt, momentum=0.937, mosaic=1.0, multi_scale=False, name=chart_nonchart_cls_y11s_1755796203, nbs=64, nms=False, opset=None, optimize=False, optimizer=auto, overlap_mask=True, patience=10, perspective=0.0, plots=True, pose=12.0, pretrained=True, profile=False, project=None, rect=False, resume=False, retina_masks=False, save=True, save_conf=False, save_crop=False, save_dir=runs/classify/chart_nonchart_cls_y11s_1755796203, save_frames=False, save_json=False, save_period=-1, save_txt=False, scale=0.5, seed=42, shear=0.0, show=False, show_boxes=True, show_conf=True, show_labels=True, simplify=True, single_cls=False, source=None, split=val, stream_buffer=False, task=classify, time=None, tracker=botsort.yaml, translate=0.1, val=True, verbose=True, vid_stride=1, visualize=False, warmup_bias_lr=0.1, warmup_epochs=3.0, warmup_momentum=0.8, weight_decay=0.0005, workers=16, workspace=None\n",
            "ERROR ❌ \u001b[34m\u001b[1mtrain:\u001b[0m /afh/projects/chartvllm-workspace-e50dcc49-4202-489d-ae4f-22f8078e2c70/shared/Users/t-yooyeunkim/ultralytics-yolo/data/train... found 18317 images in 1 classes (requires 2 classes, not 1)\n",
            "ERROR ❌ \u001b[34m\u001b[1mval:\u001b[0m /afh/projects/chartvllm-workspace-e50dcc49-4202-489d-ae4f-22f8078e2c70/shared/Users/t-yooyeunkim/ultralytics-yolo/data/val... found 1056 images in 1 classes (requires 2 classes, not 1)\n",
            "ERROR ❌ \u001b[34m\u001b[1mtest:\u001b[0m /afh/projects/chartvllm-workspace-e50dcc49-4202-489d-ae4f-22f8078e2c70/shared/Users/t-yooyeunkim/ultralytics-yolo/data/test... found 1509 images in 1 classes (requires 2 classes, not 1)\n",
            "Overriding model.yaml nc=80 with nc=2\n",
            "\n",
            "                   from  n    params  module                                       arguments                     \n",
            "  0                  -1  1       928  ultralytics.nn.modules.conv.Conv             [3, 32, 3, 2]                 \n",
            "  1                  -1  1     18560  ultralytics.nn.modules.conv.Conv             [32, 64, 3, 2]                \n",
            "  2                  -1  1     26080  ultralytics.nn.modules.block.C3k2            [64, 128, 1, False, 0.25]     \n",
            "  3                  -1  1    147712  ultralytics.nn.modules.conv.Conv             [128, 128, 3, 2]              \n",
            "  4                  -1  1    103360  ultralytics.nn.modules.block.C3k2            [128, 256, 1, False, 0.25]    \n",
            "  5                  -1  1    590336  ultralytics.nn.modules.conv.Conv             [256, 256, 3, 2]              \n",
            "  6                  -1  1    346112  ultralytics.nn.modules.block.C3k2            [256, 256, 1, True]           \n",
            "  7                  -1  1   1180672  ultralytics.nn.modules.conv.Conv             [256, 512, 3, 2]              \n",
            "  8                  -1  1   1380352  ultralytics.nn.modules.block.C3k2            [512, 512, 1, True]           \n",
            "  9                  -1  1    990976  ultralytics.nn.modules.block.C2PSA           [512, 512, 1]                 \n",
            " 10                  -1  1    660482  ultralytics.nn.modules.head.Classify         [512, 2]                      \n",
            "YOLO11s-cls summary: 86 layers, 5,445,570 parameters, 5,445,570 gradients, 12.1 GFLOPs\n",
            "Transferred 234/236 items from pretrained weights\n",
            "\u001b[34m\u001b[1mAMP: \u001b[0mrunning Automatic Mixed Precision (AMP) checks...\n",
            "\u001b[34m\u001b[1mAMP: \u001b[0mchecks passed ✅\n",
            "WARNING ⚠️ Classification `cache_ram` training has known memory leak in https://github.com/ultralytics/ultralytics/issues/9824, setting `cache_ram=False`.\n",
            "\u001b[34m\u001b[1mtrain: \u001b[0mNew cache created: /afh/projects/chartvllm-workspace-e50dcc49-4202-489d-ae4f-22f8078e2c70/shared/Users/t-yooyeunkim/ultralytics-yolo/data/train.cache\n",
            "\u001b[34m\u001b[1mval: \u001b[0mNew cache created: /afh/projects/chartvllm-workspace-e50dcc49-4202-489d-ae4f-22f8078e2c70/shared/Users/t-yooyeunkim/ultralytics-yolo/data/val.cache\n",
            "\u001b[34m\u001b[1moptimizer:\u001b[0m 'optimizer=auto' found, ignoring 'lr0=0.01' and 'momentum=0.937' and determining best 'optimizer', 'lr0' and 'momentum' automatically... \n",
            "\u001b[34m\u001b[1moptimizer:\u001b[0m AdamW(lr=0.001667, momentum=0.9) with parameter groups 39 weight(decay=0.0), 40 weight(decay=0.002), 40 bias(decay=0.0)\n",
            "                   all          1          1\n",
            "\n",
            "      Epoch    GPU_mem       loss  Instances       Size\n",
            "                   all          1          1\n",
            "Speed: 0.0ms preprocess, 0.0ms inference, 0.0ms loss, 0.0ms postprocess per image\n",
            "Results saved to \u001b[1mruns/classify/chart_nonchart_cls_y11s_1755796203\u001b[0m\n"
          ]
        },
        {
          "name": "stderr",
          "output_type": "stream",
          "text": [
            "\u001b[34m\u001b[1mtrain: \u001b[0mScanning /afh/projects/chartvllm-workspace-e50dcc49-4202-489d-ae4f-22f8078e2c70/shared/Users/t-yooyeunkim/ultralytics-yolo/data/train... 18317 images, 0 corrupt: 100%|██████████| 18317/18317 [02:53<00:00, 105.44it/s]\n",
            "\u001b[34m\u001b[1mval: \u001b[0mScanning /afh/projects/chartvllm-workspace-e50dcc49-4202-489d-ae4f-22f8078e2c70/shared/Users/t-yooyeunkim/ultralytics-yolo/data/val... 1056 images, 0 corrupt: 100%|██████████| 1056/1056 [00:10<00:00, 104.68it/s]\n",
            "       1/30      5.36G     0.1124        141        224: 100%|██████████| 72/72 [01:27<00:00,  1.21s/it]\n",
            "               classes   top1_acc   top5_acc: 100%|██████████| 3/3 [00:00<00:00,  3.86it/s]\n",
            "       2/30      6.33G   6.03e-05        141        224: 100%|██████████| 72/72 [01:28<00:00,  1.22s/it]\n",
            "               classes   top1_acc   top5_acc: 100%|██████████| 3/3 [00:00<00:00, 57.19it/s]\n",
            "       4/30      6.37G  1.796e-05        256        224:  75%|███████▌  | 54/72 [00:57<00:06,  2.99it/s]"
          ]
        }
      ],
      "source": [
        "# === YOLO11s Classification: train -> val -> test -> export ===\n",
        "# H100 NVL 기준 설정. OOM 나면 BATCH를 256 -> 128 -> 64로 낮춰서 재시도.\n",
        "\n",
        "import os, glob, json, shutil, pathlib, time\n",
        "from ultralytics import YOLO\n",
        "\n",
        "DATA_YAML = os.path.realpath(\"data\")\n",
        "MODEL     = \"yolo11s-cls.pt\"          # 사전학습 모델\n",
        "IMGSZ     = 224                       # 분류 기본 해상도\n",
        "EPOCHS    = 30                        # 먼저 30epoch 스모크 → 개선 시 50~100\n",
        "WORKERS   = min(os.cpu_count() or 8, 16)\n",
        "SEED      = 42\n",
        "\n",
        "# H100이면 256도 여유. OOM시 128/64로 낮춰 재실행.\n",
        "BATCH_CANDIDATES = [256, 128, 64]\n",
        "\n",
        "run_name = f\"chart_nonchart_cls_y11s_{int(time.time())}\"\n",
        "\n",
        "def try_train(batch):\n",
        "    print(f\"\\n[Train] batch={batch}, epochs={EPOCHS}, imgsz={IMGSZ}, workers={WORKERS}\")\n",
        "    model = YOLO(MODEL)\n",
        "    res = model.train(\n",
        "        data=DATA_YAML,\n",
        "        epochs=EPOCHS,\n",
        "        imgsz=IMGSZ,\n",
        "        batch=batch,\n",
        "        workers=WORKERS,\n",
        "        name=run_name,\n",
        "        seed=SEED,\n",
        "        cache=True,        # 디스크 캐시로 I/O 축소\n",
        "        amp=True,          # mixed precision\n",
        "        cos_lr=True,       # cosine LR schedule\n",
        "        patience=10,       # early stopping\n",
        "        plots=True,        # 학습 곡선/CM 등 저장\n",
        "        verbose=True,\n",
        "    )\n",
        "    return model, res\n",
        "\n",
        "trained = None\n",
        "for b in BATCH_CANDIDATES:\n",
        "    try:\n",
        "        model, train_res = try_train(b)\n",
        "        trained = (model, train_res)\n",
        "        break\n",
        "    except RuntimeError as e:\n",
        "        if \"CUDA out of memory\" in str(e):\n",
        "            print(f\"OOM at batch={b}, retrying with smaller batch...\")\n",
        "            continue\n",
        "        raise\n",
        "\n",
        "assert trained is not None, \"Training failed at all batch sizes\"\n",
        "model, train_res = trained"
      ]
    },
    {
      "cell_type": "markdown",
      "metadata": {
        "nteract": {
          "transient": {
            "deleting": false
          }
        }
      },
      "source": [
        "# Test & 결과 파일/모델 저장"
      ]
    },
    {
      "cell_type": "markdown",
      "metadata": {
        "nteract": {
          "transient": {
            "deleting": false
          }
        }
      },
      "source": [
        "## Best Model로 Test 진행"
      ]
    },
    {
      "cell_type": "code",
      "execution_count": 16,
      "metadata": {
        "gather": {
          "logged": 1755798745101
        }
      },
      "outputs": [
        {
          "name": "stdout",
          "output_type": "stream",
          "text": [
            "[TEST] using weights: runs/classify/chart_nonchart_cls_y11s_1755796203/weights/best.pt\n",
            "Ultralytics 8.3.182 🚀 Python-3.12.11 torch-2.8.0+cu128 CUDA:0 (NVIDIA H100 NVL, 95248MiB)\n",
            "YOLO11s-cls summary (fused): 47 layers, 5,436,690 parameters, 0 gradients, 12.0 GFLOPs\n",
            "ERROR ❌ \u001b[34m\u001b[1mtrain:\u001b[0m /afh/projects/chartvllm-workspace-e50dcc49-4202-489d-ae4f-22f8078e2c70/shared/Users/t-yooyeunkim/ultralytics-yolo/data/train... found 18317 images in 1 classes (requires 2 classes, not 1)\n",
            "ERROR ❌ \u001b[34m\u001b[1mval:\u001b[0m /afh/projects/chartvllm-workspace-e50dcc49-4202-489d-ae4f-22f8078e2c70/shared/Users/t-yooyeunkim/ultralytics-yolo/data/val... found 1056 images in 1 classes (requires 2 classes, not 1)\n",
            "ERROR ❌ \u001b[34m\u001b[1mtest:\u001b[0m /afh/projects/chartvllm-workspace-e50dcc49-4202-489d-ae4f-22f8078e2c70/shared/Users/t-yooyeunkim/ultralytics-yolo/data/test... found 1509 images in 1 classes (requires 2 classes, not 1)\n",
            "                   all          1          1\n",
            "Speed: 0.0ms preprocess, 0.2ms inference, 0.0ms loss, 0.0ms postprocess per image\n",
            "Results saved to \u001b[1mruns/classify/val\u001b[0m\n",
            "test metrics: {'metrics/accuracy_top1': 1.0, 'metrics/accuracy_top5': 1.0, 'fitness': 1.0}\n",
            "✅ saved: runs/classify/chart_nonchart_cls_y11s_1755796203/summaries/test_summary.json\n"
          ]
        },
        {
          "name": "stderr",
          "output_type": "stream",
          "text": [
            "\u001b[34m\u001b[1mtest: \u001b[0mScanning /afh/projects/chartvllm-workspace-e50dcc49-4202-489d-ae4f-22f8078e2c70/shared/Users/t-yooyeunkim/ultralytics-yolo/data/test... 1509 images, 0 corrupt: 100%|██████████| 1509/1509 [00:15<00:00, 97.41it/s] \n",
            "               classes   top1_acc   top5_acc:  73%|███████▎  | 69/95 [00:07<00:02, 10.90it/s]"
          ]
        }
      ],
      "source": [
        "# === TEST with best.pt ===\n",
        "import os, glob, json, pathlib\n",
        "from ultralytics import YOLO\n",
        "\n",
        "# 1) 최신 run 폴더/가중치 찾기\n",
        "runs = sorted(glob.glob(f\"runs/classify/{run_name}*\"), key=os.path.getmtime)\n",
        "assert runs, \"run 폴더를 찾지 못했습니다.\"\n",
        "run_dir = pathlib.Path(runs[-1])\n",
        "w_best  = run_dir/\"weights\"/\"best.pt\"\n",
        "w_last  = run_dir/\"weights\"/\"last.pt\"\n",
        "use_w   = w_best if w_best.exists() else w_last\n",
        "assert use_w.exists(), \"best/last 가중치가 없습니다.\"\n",
        "\n",
        "# 2) Best Weight 사용한 best model로 테스트 진행\n",
        "print(f\"[TEST] using weights: {use_w}\")\n",
        "model_for_test = YOLO(str(use_w))\n",
        "\n",
        "test_res = model_for_test.val(\n",
        "    data=DATA_YAML,\n",
        "    split=\"test\",\n",
        "    imgsz=IMGSZ,\n",
        "    workers=WORKERS,\n",
        ")\n",
        "\n",
        "print(\"test metrics:\", test_res.results_dict)\n",
        "\n",
        "summary_dir = run_dir / \"summaries\"\n",
        "summary_dir.mkdir(parents=True, exist_ok=True)\n",
        "with open(summary_dir / \"test_summary.json\", \"w\") as f:\n",
        "    json.dump({k: float(v) for k, v in test_res.results_dict.items()}, f, indent=2)\n",
        "\n",
        "print(\"✅ saved:\", summary_dir / \"test_summary.json\")"
      ]
    },
    {
      "cell_type": "markdown",
      "metadata": {
        "nteract": {
          "transient": {
            "deleting": false
          }
        }
      },
      "source": [
        "## 산출물 packaging"
      ]
    },
    {
      "cell_type": "code",
      "execution_count": 17,
      "metadata": {
        "gather": {
          "logged": 1755799006711
        }
      },
      "outputs": [
        {
          "name": "stdout",
          "output_type": "stream",
          "text": [
            "📦 Packed: /afh/projects/chartvllm-workspace-e50dcc49-4202-489d-ae4f-22f8078e2c70/shared/Users/t-yooyeunkim/ultralytics-yolo/model_artifact\n"
          ]
        }
      ],
      "source": [
        "import os, json, shutil, glob, pathlib, time\n",
        "from ultralytics import __version__ as ulty_ver\n",
        "\n",
        "# 1) 최신 run 폴더/가중치 찾기\n",
        "runs = sorted(glob.glob(f\"runs/classify/{run_name}*\"), key=os.path.getmtime)\n",
        "assert runs, \"run 폴더를 찾지 못했습니다.\"\n",
        "run_dir = pathlib.Path(runs[-1])\n",
        "w_best  = run_dir/\"weights\"/\"best.pt\"\n",
        "w_last  = run_dir/\"weights\"/\"last.pt\"\n",
        "use_w   = w_best if w_best.exists() else w_last\n",
        "assert use_w.exists(), \"best/last 가중치가 없습니다.\"\n",
        "\n",
        "# 2) 테스트 요약(있으면)와 data.yaml 같은 레퍼런스도 묶기\n",
        "artifact_dir = pathlib.Path(\"model_artifact\")\n",
        "if artifact_dir.exists():\n",
        "    shutil.rmtree(artifact_dir)\n",
        "(artifact_dir/\"weights\").mkdir(parents=True, exist_ok=True)\n",
        "\n",
        "shutil.copy2(use_w, artifact_dir/\"weights\"/use_w.name)\n",
        "for extra in [\"data/data.yaml\", str(run_dir/\"summaries\"/\"test_summary.json\")]:\n",
        "    p = pathlib.Path(extra)\n",
        "    if p.exists():\n",
        "        dst = artifact_dir/p.name if p.suffix else artifact_dir/p.parts[-1]\n",
        "        try:\n",
        "            shutil.copy2(p, dst)\n",
        "        except IsADirectoryError:\n",
        "            shutil.copytree(p, artifact_dir/p.name, dirs_exist_ok=True)\n",
        "\n",
        "# 3) 메타데이터 기록(작업 재현용)\n",
        "meta = {\n",
        "    \"task\": \"image-classification\",\n",
        "    \"classes\": {0:\"chart\", 1:\"nonchart\"},\n",
        "    \"imgsz\": 224,\n",
        "    \"epochs\": 30,\n",
        "    \"ultralytics_version\": ulty_ver,\n",
        "    \"source_run\": str(run_dir),\n",
        "    \"weight_file\": use_w.name,\n",
        "}\n",
        "with open(artifact_dir/\"model_card.json\",\"w\") as f:\n",
        "    json.dump(meta, f, indent=2)\n",
        "print(\"📦 Packed:\", artifact_dir.resolve())"
      ]
    },
    {
      "cell_type": "markdown",
      "metadata": {
        "nteract": {
          "transient": {
            "deleting": false
          }
        }
      },
      "source": [
        "## ML 워크스페이스에 모델 등록"
      ]
    },
    {
      "cell_type": "code",
      "execution_count": 20,
      "metadata": {
        "gather": {
          "logged": 1755799320709
        }
      },
      "outputs": [
        {
          "name": "stderr",
          "output_type": "stream",
          "text": [
            "Overriding of current TracerProvider is not allowed\n",
            "Overriding of current LoggerProvider is not allowed\n",
            "Overriding of current MeterProvider is not allowed\n",
            "Attempting to instrument while already instrumented\n",
            "Attempting to instrument while already instrumented\n",
            "Attempting to instrument while already instrumented\n",
            "\u001b[32mUploading model_artifact (11.02 MBs): 100%|██████████| 11024766/11024766 [00:00<00:00, 38302016.46it/s]\n",
            "\u001b[39m\n",
            "\n"
          ]
        },
        {
          "name": "stdout",
          "output_type": "stream",
          "text": [
            "✅ Registered model: yolo11-chart-binary-cls v1\n"
          ]
        }
      ],
      "source": [
        "from azure.identity import DefaultAzureCredential\n",
        "from azure.ai.ml import MLClient\n",
        "from azure.ai.ml.entities import Model\n",
        "\n",
        "\n",
        "from dotenv import load_dotenv\n",
        "import os\n",
        "\n",
        "# .env\n",
        "load_dotenv()\n",
        "\n",
        "# get environment variables\n",
        "sub_id = os.getenv(\"SUBSCRIPTION_ID\")\n",
        "rg = os.getenv(\"RESOURCE_GROUP\")\n",
        "ws_name = os.getenv(\"WORKSPACE_NAME\")\n",
        "\n",
        "# (A) 구독/리소스/WS를 직접 지정\n",
        "SUBSCRIPTION_ID = sub_id\n",
        "RESOURCE_GROUP  = rg\n",
        "WORKSPACE_NAME  = ws_name\n",
        "\n",
        "# (B) 혹은 config.json이 노트북에 세팅되어 있다면:\n",
        "# from azure.ai.ml import MLClient\n",
        "# ml_client = MLClient.from_config()\n",
        "\n",
        "ml_client = MLClient(\n",
        "    DefaultAzureCredential(),\n",
        "    SUBSCRIPTION_ID,\n",
        "    RESOURCE_GROUP,\n",
        "    WORKSPACE_NAME,\n",
        ")\n",
        "\n",
        "model_name = \"yolo11-chart-binary-cls\"   # 원하는 고정 이름\n",
        "model = Model(\n",
        "    name=model_name,\n",
        "    path=str(artifact_dir),             # 폴더 통째로 업로드\n",
        "    type=\"custom_model\",                # .pt/onnx 묶음이면 custom_model 적합\n",
        "    description=\"YOLO11s classification (chart vs nonchart). Includes weights and metadata.\",\n",
        "    tags={\n",
        "        \"task\":\"classification\",\n",
        "        \"backbone\":\"yolo11s-cls\",\n",
        "        \"classes\":\"chart,nonchart\",\n",
        "    },\n",
        "    properties={\n",
        "        \"ultralytics_version\": ulty_ver,\n",
        "        \"imgsz\":\"224\",\n",
        "    }\n",
        ")\n",
        "\n",
        "registered = ml_client.models.create_or_update(model)\n",
        "print(f\"✅ Registered model: {registered.name} v{registered.version}\")"
      ]
    },
    {
      "cell_type": "markdown",
      "metadata": {
        "nteract": {
          "transient": {
            "deleting": false
          }
        }
      },
      "source": [
        "### (Optional) ONNX/TorchScript 내보내기\n"
      ]
    },
    {
      "cell_type": "code",
      "execution_count": 21,
      "metadata": {
        "gather": {
          "logged": 1755799511081
        }
      },
      "outputs": [
        {
          "name": "stdout",
          "output_type": "stream",
          "text": [
            "\n",
            "[EXPORT] onnx (fp32)\n",
            "Ultralytics 8.3.182 🚀 Python-3.12.11 torch-2.8.0+cu128 CPU (AMD EPYC 9V84 96-Core Processor)\n",
            "YOLO11s-cls summary (fused): 47 layers, 5,436,690 parameters, 0 gradients, 12.0 GFLOPs\n",
            "\n",
            "\u001b[34m\u001b[1mPyTorch:\u001b[0m starting from 'runs/classify/chart_nonchart_cls_y11s_1755796203/weights/best.pt' with input shape (1, 3, 224, 224) BCHW and output shape(s) (1, 2) (10.5 MB)\n",
            "\u001b[31m\u001b[1mrequirements:\u001b[0m Ultralytics requirements ['onnx>=1.12.0,<1.18.0', 'onnxslim>=0.1.59', 'onnxruntime-gpu'] not found, attempting AutoUpdate...\n",
            "Requirement already satisfied: onnx<1.18.0,>=1.12.0 in /anaconda/envs/azureml_py38/lib/python3.10/site-packages (1.17.0)\n",
            "Collecting onnxslim>=0.1.59\n",
            "  Downloading onnxslim-0.1.64-py3-none-any.whl (164 kB)\n",
            "     ━━━━━━━━━━━━━━━━━━━━━━━━━━━━━━━━━━━━━━ 164.0/164.0 kB 37.2 MB/s eta 0:00:00\n",
            "Collecting onnxruntime-gpu\n",
            "  Downloading onnxruntime_gpu-1.22.0-cp310-cp310-manylinux_2_27_x86_64.manylinux_2_28_x86_64.whl (283.2 MB)\n",
            "     ━━━━━━━━━━━━━━━━━━━━━━━━━━━━━━━━━━━━━ 283.2/283.2 MB 166.0 MB/s eta 0:00:00\n",
            "Requirement already satisfied: numpy>=1.20 in /anaconda/envs/azureml_py38/lib/python3.10/site-packages (from onnx<1.18.0,>=1.12.0) (1.23.5)\n",
            "Requirement already satisfied: protobuf>=3.20.2 in /anaconda/envs/azureml_py38/lib/python3.10/site-packages (from onnx<1.18.0,>=1.12.0) (4.25.8)\n",
            "Requirement already satisfied: sympy>=1.13.3 in /anaconda/envs/azureml_py38/lib/python3.10/site-packages (from onnxslim>=0.1.59) (1.13.3)\n",
            "Requirement already satisfied: packaging in /anaconda/envs/azureml_py38/lib/python3.10/site-packages (from onnxslim>=0.1.59) (25.0)\n",
            "Requirement already satisfied: colorama in /anaconda/envs/azureml_py38/lib/python3.10/site-packages (from onnxslim>=0.1.59) (0.4.6)\n",
            "Requirement already satisfied: coloredlogs in /anaconda/envs/azureml_py38/lib/python3.10/site-packages (from onnxruntime-gpu) (15.0.1)\n",
            "Requirement already satisfied: flatbuffers in /anaconda/envs/azureml_py38/lib/python3.10/site-packages (from onnxruntime-gpu) (25.2.10)\n",
            "Requirement already satisfied: mpmath<1.4,>=1.1.0 in /anaconda/envs/azureml_py38/lib/python3.10/site-packages (from sympy>=1.13.3->onnxslim>=0.1.59) (1.3.0)\n",
            "Requirement already satisfied: humanfriendly>=9.1 in /anaconda/envs/azureml_py38/lib/python3.10/site-packages (from coloredlogs->onnxruntime-gpu) (10.0)\n",
            "Installing collected packages: onnxslim, onnxruntime-gpu\n",
            "Successfully installed onnxruntime-gpu-1.22.0 onnxslim-0.1.64\n",
            "\n",
            "\u001b[31m\u001b[1mrequirements:\u001b[0m AutoUpdate success ✅ 11.5s\n",
            "WARNING ⚠️ \u001b[31m\u001b[1mrequirements:\u001b[0m \u001b[1mRestart runtime or rerun command for updates to take effect\u001b[0m\n",
            "\n",
            "\n",
            "\u001b[34m\u001b[1mONNX:\u001b[0m starting export with onnx 1.18.0 opset 19...\n",
            "WARNING ⚠️ \u001b[34m\u001b[1mONNX:\u001b[0m simplifier failure: No module named 'onnxslim'\n",
            "\u001b[34m\u001b[1mONNX:\u001b[0m export success ✅ 12.8s, saved as 'runs/classify/chart_nonchart_cls_y11s_1755796203/weights/best.onnx' (20.8 MB)\n",
            "\n",
            "Export complete (13.0s)\n",
            "Results saved to \u001b[1m/afh/projects/chartvllm-workspace-e50dcc49-4202-489d-ae4f-22f8078e2c70/shared/Users/t-yooyeunkim/ultralytics-yolo/runs/classify/chart_nonchart_cls_y11s_1755796203/weights\u001b[0m\n",
            "Predict:         yolo predict task=classify model=runs/classify/chart_nonchart_cls_y11s_1755796203/weights/best.onnx imgsz=224  \n",
            "Validate:        yolo val task=classify model=runs/classify/chart_nonchart_cls_y11s_1755796203/weights/best.onnx imgsz=224 data=/afh/projects/chartvllm-workspace-e50dcc49-4202-489d-ae4f-22f8078e2c70/shared/Users/t-yooyeunkim/ultralytics-yolo/data  \n",
            "Visualize:       https://netron.app\n",
            "[EXPORT] torchscript\n",
            "Ultralytics 8.3.182 🚀 Python-3.12.11 torch-2.8.0+cu128 CPU (AMD EPYC 9V84 96-Core Processor)\n",
            "YOLO11s-cls summary (fused): 47 layers, 5,436,690 parameters, 0 gradients, 12.0 GFLOPs\n",
            "\n",
            "\u001b[34m\u001b[1mPyTorch:\u001b[0m starting from 'runs/classify/chart_nonchart_cls_y11s_1755796203/weights/best.pt' with input shape (1, 3, 224, 224) BCHW and output shape(s) (1, 2) (10.5 MB)\n",
            "\n",
            "\u001b[34m\u001b[1mTorchScript:\u001b[0m starting export with torch 2.8.0+cu128...\n",
            "\u001b[34m\u001b[1mTorchScript:\u001b[0m export success ✅ 0.7s, saved as 'runs/classify/chart_nonchart_cls_y11s_1755796203/weights/best.torchscript' (20.9 MB)\n",
            "\n",
            "Export complete (0.9s)\n",
            "Results saved to \u001b[1m/afh/projects/chartvllm-workspace-e50dcc49-4202-489d-ae4f-22f8078e2c70/shared/Users/t-yooyeunkim/ultralytics-yolo/runs/classify/chart_nonchart_cls_y11s_1755796203/weights\u001b[0m\n",
            "Predict:         yolo predict task=classify model=runs/classify/chart_nonchart_cls_y11s_1755796203/weights/best.torchscript imgsz=224  \n",
            "Validate:        yolo val task=classify model=runs/classify/chart_nonchart_cls_y11s_1755796203/weights/best.torchscript imgsz=224 data=/afh/projects/chartvllm-workspace-e50dcc49-4202-489d-ae4f-22f8078e2c70/shared/Users/t-yooyeunkim/ultralytics-yolo/data  \n",
            "Visualize:       https://netron.app\n",
            "\n",
            "Done. Exported Artifacts in: runs/classify/chart_nonchart_cls_y11s_1755796203\n"
          ]
        }
      ],
      "source": [
        "best_model = YOLO(str(use_w))\n",
        "print(\"\\n[EXPORT] onnx (fp32)\")\n",
        "best_model.export(format=\"onnx\", imgsz=IMGSZ)\n",
        "print(\"[EXPORT] torchscript\")\n",
        "best_model.export(format=\"torchscript\", imgsz=IMGSZ)\n",
        "\n",
        "print(\"\\nDone. Exported Artifacts in:\", run_dir)"
      ]
    },
    {
      "cell_type": "markdown",
      "metadata": {
        "nteract": {
          "transient": {
            "deleting": false
          }
        }
      },
      "source": [
        "ONNX: starting export with onnx 1.18.0 opset 19...\n",
        "WARNING ⚠️ ONNX: simplifier failure: No module named 'onnxslim'\n",
        "ONNX: export success ✅ 12.8s, saved as 'runs/classify/chart_nonchart_cls_y11s_1755796203/weights/best.onnx' (20.8 MB)\n",
        "\n",
        "Export complete (13.0s)\n",
        "Results saved to /afh/projects/chartvllm-workspace-e50dcc49-4202-489d-ae4f-22f8078e2c70/shared/Users/t-yooyeunkim/ultralytics-yolo/runs/classify/chart_nonchart_cls_y11s_1755796203/weights\n",
        "Predict:         yolo predict task=classify model=runs/classify/chart_nonchart_cls_y11s_1755796203/weights/best.onnx imgsz=224  \n",
        "Validate:        yolo val task=classify model=runs/classify/chart_nonchart_cls_y11s_1755796203/weights/best.onnx imgsz=224 data=/afh/projects/chartvllm-workspace-e50dcc49-4202-489d-ae4f-22f8078e2c70/shared/Users/t-yooyeunkim/ultralytics-yolo/data  \n",
        "Visualize:       https://netron.app\n",
        "[EXPORT] torchscript\n",
        "Ultralytics 8.3.182 🚀 Python-3.12.11 torch-2.8.0+cu128 CPU (AMD EPYC 9V84 96-Core Processor)\n",
        "YOLO11s-cls summary (fused): 47 layers, 5,436,690 parameters, 0 gradients, 12.0 GFLOPs\n",
        "\n",
        "PyTorch: starting from 'runs/classify/chart_nonchart_cls_y11s_1755796203/weights/best.pt' with input shape (1, 3, 224, 224) BCHW and output shape(s) (1, 2) (10.5 MB)\n",
        "\n",
        "TorchScript: starting export with torch 2.8.0+cu128...\n",
        "TorchScript: export success ✅ 0.7s, saved as 'runs/classify/chart_nonchart_cls_y11s_1755796203/weights/best.torchscript' (20.9 MB)\n",
        "\n",
        "Export complete (0.9s)\n",
        "Results saved to /afh/projects/chartvllm-workspace-e50dcc49-4202-489d-ae4f-22f8078e2c70/shared/Users/t-yooyeunkim/ultralytics-yolo/runs/classify/chart_nonchart_cls_y11s_1755796203/weights\n",
        "Predict:         yolo predict task=classify model=runs/classify/chart_nonchart_cls_y11s_1755796203/weights/best.torchscript imgsz=224  \n",
        "Validate:        yolo val task=classify model=runs/classify/chart_nonchart_cls_y11s_1755796203/weights/best.torchscript imgsz=224 data=/afh/projects/chartvllm-workspace-e50dcc49-4202-489d-ae4f-22f8078e2c70/shared/Users/t-yooyeunkim/ultralytics-yolo/data  \n",
        "Visualize:       https://netron.app\n",
        "\n",
        "Done. Exported Artifacts in: runs/classify/chart_nonchart_cls_y11s_1755796203\n"
      ]
    }
  ],
  "metadata": {
    "kernel_info": {
      "name": "yolo11env"
    },
    "kernelspec": {
      "display_name": "Python (yolo11env)",
      "language": "python",
      "name": "yolo11env"
    },
    "language_info": {
      "codemirror_mode": {
        "name": "ipython",
        "version": 3
      },
      "file_extension": ".py",
      "mimetype": "text/x-python",
      "name": "python",
      "nbconvert_exporter": "python",
      "pygments_lexer": "ipython3",
      "version": "3.12.11"
    },
    "microsoft": {
      "host": {
        "AzureML": {
          "notebookHasBeenCompleted": true
        }
      }
    },
    "nteract": {
      "version": "nteract-front-end@1.0.0"
    }
  },
  "nbformat": 4,
  "nbformat_minor": 2
}
